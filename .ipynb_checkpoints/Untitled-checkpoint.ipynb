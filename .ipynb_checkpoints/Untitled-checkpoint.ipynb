{
 "cells": [
  {
   "cell_type": "code",
   "execution_count": 38,
   "metadata": {},
   "outputs": [],
   "source": [
    "matrix=[\n",
    "    [0,0,0,2,2,9,0,0,8],\n",
    "    [2,4,0,0,8,6,0,0,0],\n",
    "    [0,0,9,0,0,0,0,3,0],\n",
    "    [0,0,0,0,4,0,5,0,3],\n",
    "    [3,7,4,5,0,2,8,0,1],\n",
    "    [0,2,8,6,3,1,9,0,7],\n",
    "    [9,3,0,1,0,0,0,8,0],\n",
    "    [0,5,2,0,0,0,0,1,4],\n",
    "    [0,0,0,0,6,0,0,0,2]    ]\n",
    "\n",
    "def possible( row, col, num):\n",
    "    for i in range(9):\n",
    "        if matrix[row][i] == num:\n",
    "            return False\n",
    "        \n",
    "    for i in range(9):\n",
    "        if matrix[i][col] == num:\n",
    "            return False\n",
    "        \n",
    "    row0=(row//3)*3\n",
    "    col0=(col//3)*3\n",
    "    for i in range(3):\n",
    "        for j in range(3):\n",
    "            if matrix[row0+i][col0+j] == num :\n",
    "                return False\n",
    "    return True\n",
    "\n",
    "def solve(row, col):\n",
    "    if (row == 8) and (col == 9):\n",
    "        return True\n",
    "    \n",
    "    if col==9:\n",
    "        row += 1\n",
    "        col  = 0\n",
    "        \n",
    "    if (matrix[row][col] > 0):\n",
    "        return solve(row,col+1)\n",
    "    \n",
    "    for num in range(1,10):\n",
    "        if possible(row, col, num):\n",
    "            matrix[row][col] = num\n",
    "            if solve(row, col+1):\n",
    "                return True\n",
    "            matrix[row][col] = 0\n",
    "\n",
    "    return False"
   ]
  },
  {
   "cell_type": "code",
   "execution_count": 39,
   "metadata": {},
   "outputs": [],
   "source": [
    "def solve(row, col):\n",
    "    if (row == 8) and (col == 9):\n",
    "        return True\n",
    "    \n",
    "    if col==9:\n",
    "        row += 1\n",
    "        col  = 0\n",
    "        \n",
    "    if (matrix[row][col] > 0):\n",
    "        return solve(row,col+1)\n",
    "    \n",
    "    for num in range(1,10):\n",
    "        if possible(row, col, num):\n",
    "            matrix[row][col] = num\n",
    "            if solve(row, col+1):\n",
    "                return True\n",
    "            matrix[row][col] = 0\n",
    "\n",
    "    return False"
   ]
  },
  {
   "cell_type": "code",
   "execution_count": 40,
   "metadata": {},
   "outputs": [
    {
     "data": {
      "text/plain": [
       "False"
      ]
     },
     "execution_count": 40,
     "metadata": {},
     "output_type": "execute_result"
    }
   ],
   "source": [
    "solve(0,0)"
   ]
  },
  {
   "cell_type": "code",
   "execution_count": 41,
   "metadata": {},
   "outputs": [
    {
     "data": {
      "text/plain": [
       "[[0, 0, 0, 2, 2, 9, 0, 0, 8],\n",
       " [2, 4, 0, 0, 8, 6, 0, 0, 0],\n",
       " [0, 0, 9, 0, 0, 0, 0, 3, 0],\n",
       " [0, 0, 0, 0, 4, 0, 5, 0, 3],\n",
       " [3, 7, 4, 5, 0, 2, 8, 0, 1],\n",
       " [0, 2, 8, 6, 3, 1, 9, 0, 7],\n",
       " [9, 3, 0, 1, 0, 0, 0, 8, 0],\n",
       " [0, 5, 2, 0, 0, 0, 0, 1, 4],\n",
       " [0, 0, 0, 0, 6, 0, 0, 0, 2]]"
      ]
     },
     "execution_count": 41,
     "metadata": {},
     "output_type": "execute_result"
    }
   ],
   "source": [
    "matrix"
   ]
  },
  {
   "cell_type": "code",
   "execution_count": null,
   "metadata": {},
   "outputs": [],
   "source": []
  }
 ],
 "metadata": {
  "kernelspec": {
   "display_name": "Python 3",
   "language": "python",
   "name": "python3"
  },
  "language_info": {
   "codemirror_mode": {
    "name": "ipython",
    "version": 3
   },
   "file_extension": ".py",
   "mimetype": "text/x-python",
   "name": "python",
   "nbconvert_exporter": "python",
   "pygments_lexer": "ipython3",
   "version": "3.8.5"
  }
 },
 "nbformat": 4,
 "nbformat_minor": 4
}
